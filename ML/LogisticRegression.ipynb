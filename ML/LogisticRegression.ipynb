{
 "cells": [
  {
   "cell_type": "code",
   "execution_count": 6,
   "id": "2e260a4d-0521-4fc4-8f86-eb812e929f36",
   "metadata": {},
   "outputs": [],
   "source": [
    "import pandas as pd\n",
    "import numpy as np"
   ]
  },
  {
   "cell_type": "code",
   "execution_count": 7,
   "id": "68638232-604b-4fd7-b6e0-c1338419d603",
   "metadata": {},
   "outputs": [],
   "source": [
    "# load dataset \n",
    "df = pd.read_csv(\"Datasets/Titanic/titanic.csv\")"
   ]
  },
  {
   "cell_type": "code",
   "execution_count": 10,
   "id": "c8c9e14c",
   "metadata": {},
   "outputs": [
    {
     "name": "stdout",
     "output_type": "stream",
     "text": [
      "Iteration 0: Cost 0.6919\n",
      "Iteration 1000: Cost 0.4653\n",
      "Iteration 2000: Cost 0.4559\n",
      "Iteration 3000: Cost 0.4542\n",
      "Iteration 4000: Cost 0.4537\n",
      "Iteration 5000: Cost 0.4536\n",
      "Iteration 6000: Cost 0.4535\n",
      "Iteration 7000: Cost 0.4535\n",
      "Iteration 8000: Cost 0.4535\n",
      "Iteration 9000: Cost 0.4535\n",
      "\n",
      "Final Accuracy: 82.68%\n"
     ]
    }
   ],
   "source": [
    "import pandas as pd\n",
    "import numpy as np\n",
    "\n",
    "df = pd.read_csv(\"Datasets/Titanic/titanic.csv\")\n",
    "\n",
    "df[\"FamilySize\"] = df[\"SibSp\"] + df[\"Parch\"]\n",
    "\n",
    "df.loc[:, \"Age\"] = df[\"Age\"].fillna(df[\"Age\"].median())\n",
    "df.loc[:, \"Fare\"] = df[\"Fare\"].fillna(df[\"Fare\"].median())\n",
    "df.loc[:, \"Embarked\"] = df[\"Embarked\"].fillna(df[\"Embarked\"].mode()[0])\n",
    "\n",
    "df[\"Sex\"] = df[\"Sex\"].map({\"male\": 0, \"female\": 1})\n",
    "df[\"Embarked\"] = df[\"Embarked\"].map({\"C\": 0, \"Q\": 1, \"S\": 2})\n",
    "\n",
    "selected_features = [\"Pclass\", \"Age\", \"Fare\", \"SibSp\", \"Parch\", \"FamilySize\", \"Sex\", \"Embarked\"]\n",
    "X = df[selected_features].values\n",
    "y = df[\"Survived\"].values.reshape(-1, 1)\n",
    "\n",
    "X = (X - X.mean(axis=0)) / X.std(axis=0)\n",
    "\n",
    "X = np.c_[np.ones(X.shape[0]), X]\n",
    "\n",
    "split_index = int(0.8 * len(X))\n",
    "X_train, X_test = X[:split_index], X[split_index:]\n",
    "y_train, y_test = y[:split_index], y[split_index:]\n",
    "\n",
    "theta = np.zeros((X.shape[1], 1))\n",
    "\n",
    "def sigmoid(z):\n",
    "    return 1 / (1 + np.exp(-z))\n",
    "\n",
    "def compute_cost(X, y, theta):\n",
    "    m = len(y)\n",
    "    h = sigmoid(X @ theta)\n",
    "    epsilon = 1e-9\n",
    "    cost = (-1 / m) * np.sum(y * np.log(h + epsilon) + (1 - y) * np.log(1 - h + epsilon))\n",
    "    return cost\n",
    "\n",
    "def gradient_descent(X, y, theta, learning_rate, iterations):\n",
    "    m = len(y)\n",
    "    cost_history = []\n",
    "    for i in range(iterations):\n",
    "        h = sigmoid(X @ theta)\n",
    "        gradient = (1 / m) * X.T @ (h - y)\n",
    "        theta -= learning_rate * gradient\n",
    "        cost = compute_cost(X, y, theta)\n",
    "        cost_history.append(cost)\n",
    "        if i % 1000 == 0:\n",
    "            print(f\"Iteration {i}: Cost {cost:.4f}\")\n",
    "    return theta, cost_history\n",
    "\n",
    "learning_rate = 0.01\n",
    "iterations = 10000\n",
    "theta, cost_history = gradient_descent(X_train, y_train, theta, learning_rate, iterations)\n",
    "\n",
    "y_pred_prob = sigmoid(X_test @ theta)\n",
    "y_pred = (y_pred_prob >= 0.5).astype(int)\n",
    "\n",
    "accuracy = np.mean(y_pred == y_test) * 100\n",
    "print(f\"\\nFinal Accuracy: {accuracy:.2f}%\")\n"
   ]
  },
  {
   "cell_type": "code",
   "execution_count": null,
   "id": "888fb8cb-131a-493a-9f50-d0f3a836b00d",
   "metadata": {},
   "outputs": [],
   "source": []
  }
 ],
 "metadata": {
  "kernelspec": {
   "display_name": "Python 3 (ipykernel)",
   "language": "python",
   "name": "python3"
  },
  "language_info": {
   "codemirror_mode": {
    "name": "ipython",
    "version": 3
   },
   "file_extension": ".py",
   "mimetype": "text/x-python",
   "name": "python",
   "nbconvert_exporter": "python",
   "pygments_lexer": "ipython3",
   "version": "3.12.4"
  }
 },
 "nbformat": 4,
 "nbformat_minor": 5
}
